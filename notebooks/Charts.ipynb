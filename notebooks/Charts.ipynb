{
 "cells": [
  {
   "cell_type": "markdown",
   "metadata": {},
   "source": [
    "### Evaluate Results"
   ]
  },
  {
   "cell_type": "code",
   "execution_count": 53,
   "metadata": {},
   "outputs": [
    {
     "data": {
      "text/html": [
       "<div>\n",
       "<style scoped>\n",
       "    .dataframe tbody tr th:only-of-type {\n",
       "        vertical-align: middle;\n",
       "    }\n",
       "\n",
       "    .dataframe tbody tr th {\n",
       "        vertical-align: top;\n",
       "    }\n",
       "\n",
       "    .dataframe thead th {\n",
       "        text-align: right;\n",
       "    }\n",
       "</style>\n",
       "<table border=\"1\" class=\"dataframe\">\n",
       "  <thead>\n",
       "    <tr style=\"text-align: right;\">\n",
       "      <th></th>\n",
       "      <th>error</th>\n",
       "      <th>mean_X</th>\n",
       "      <th>deletion</th>\n",
       "      <th>svt_X</th>\n",
       "      <th>knn_X</th>\n",
       "      <th>em_X</th>\n",
       "      <th>perc_missing</th>\n",
       "    </tr>\n",
       "  </thead>\n",
       "  <tbody>\n",
       "    <tr>\n",
       "      <th>0</th>\n",
       "      <td>er1</td>\n",
       "      <td>2298.942068</td>\n",
       "      <td>1.235361e-17</td>\n",
       "      <td>4064.640314</td>\n",
       "      <td>903.137246</td>\n",
       "      <td>1387.329053</td>\n",
       "      <td>0.9</td>\n",
       "    </tr>\n",
       "    <tr>\n",
       "      <th>1</th>\n",
       "      <td>er2</td>\n",
       "      <td>47.930185</td>\n",
       "      <td>2.227237e-09</td>\n",
       "      <td>63.741957</td>\n",
       "      <td>30.040382</td>\n",
       "      <td>37.230969</td>\n",
       "      <td>0.9</td>\n",
       "    </tr>\n",
       "    <tr>\n",
       "      <th>2</th>\n",
       "      <td>time</td>\n",
       "      <td>0.079799</td>\n",
       "      <td>8.908105e-03</td>\n",
       "      <td>0.014776</td>\n",
       "      <td>127.605410</td>\n",
       "      <td>15.510114</td>\n",
       "      <td>0.9</td>\n",
       "    </tr>\n",
       "    <tr>\n",
       "      <th>0</th>\n",
       "      <td>er1</td>\n",
       "      <td>2298.942068</td>\n",
       "      <td>1.235361e-17</td>\n",
       "      <td>4064.640314</td>\n",
       "      <td>903.137246</td>\n",
       "      <td>1387.329053</td>\n",
       "      <td>0.8</td>\n",
       "    </tr>\n",
       "    <tr>\n",
       "      <th>1</th>\n",
       "      <td>er2</td>\n",
       "      <td>47.930185</td>\n",
       "      <td>2.227237e-09</td>\n",
       "      <td>63.741957</td>\n",
       "      <td>30.040382</td>\n",
       "      <td>37.230969</td>\n",
       "      <td>0.8</td>\n",
       "    </tr>\n",
       "    <tr>\n",
       "      <th>2</th>\n",
       "      <td>time</td>\n",
       "      <td>0.079799</td>\n",
       "      <td>8.908105e-03</td>\n",
       "      <td>0.014776</td>\n",
       "      <td>127.605410</td>\n",
       "      <td>15.510114</td>\n",
       "      <td>0.8</td>\n",
       "    </tr>\n",
       "    <tr>\n",
       "      <th>0</th>\n",
       "      <td>er1</td>\n",
       "      <td>2298.942068</td>\n",
       "      <td>1.235361e-17</td>\n",
       "      <td>4064.640314</td>\n",
       "      <td>903.137246</td>\n",
       "      <td>1387.329053</td>\n",
       "      <td>0.7</td>\n",
       "    </tr>\n",
       "    <tr>\n",
       "      <th>1</th>\n",
       "      <td>er2</td>\n",
       "      <td>47.930185</td>\n",
       "      <td>2.227237e-09</td>\n",
       "      <td>63.741957</td>\n",
       "      <td>30.040382</td>\n",
       "      <td>37.230969</td>\n",
       "      <td>0.7</td>\n",
       "    </tr>\n",
       "    <tr>\n",
       "      <th>2</th>\n",
       "      <td>time</td>\n",
       "      <td>0.079799</td>\n",
       "      <td>8.908105e-03</td>\n",
       "      <td>0.014776</td>\n",
       "      <td>127.605410</td>\n",
       "      <td>15.510114</td>\n",
       "      <td>0.7</td>\n",
       "    </tr>\n",
       "    <tr>\n",
       "      <th>0</th>\n",
       "      <td>er1</td>\n",
       "      <td>2298.942068</td>\n",
       "      <td>1.235361e-17</td>\n",
       "      <td>4064.640314</td>\n",
       "      <td>903.137246</td>\n",
       "      <td>1387.329053</td>\n",
       "      <td>0.6</td>\n",
       "    </tr>\n",
       "    <tr>\n",
       "      <th>1</th>\n",
       "      <td>er2</td>\n",
       "      <td>47.930185</td>\n",
       "      <td>2.227237e-09</td>\n",
       "      <td>63.741957</td>\n",
       "      <td>30.040382</td>\n",
       "      <td>37.230969</td>\n",
       "      <td>0.6</td>\n",
       "    </tr>\n",
       "    <tr>\n",
       "      <th>2</th>\n",
       "      <td>time</td>\n",
       "      <td>0.079799</td>\n",
       "      <td>8.908105e-03</td>\n",
       "      <td>0.014776</td>\n",
       "      <td>127.605410</td>\n",
       "      <td>15.510114</td>\n",
       "      <td>0.6</td>\n",
       "    </tr>\n",
       "    <tr>\n",
       "      <th>0</th>\n",
       "      <td>er1</td>\n",
       "      <td>2298.942068</td>\n",
       "      <td>1.235361e-17</td>\n",
       "      <td>4064.640314</td>\n",
       "      <td>903.137246</td>\n",
       "      <td>1387.329053</td>\n",
       "      <td>0.5</td>\n",
       "    </tr>\n",
       "    <tr>\n",
       "      <th>1</th>\n",
       "      <td>er2</td>\n",
       "      <td>47.930185</td>\n",
       "      <td>2.227237e-09</td>\n",
       "      <td>63.741957</td>\n",
       "      <td>30.040382</td>\n",
       "      <td>37.230969</td>\n",
       "      <td>0.5</td>\n",
       "    </tr>\n",
       "    <tr>\n",
       "      <th>2</th>\n",
       "      <td>time</td>\n",
       "      <td>0.079799</td>\n",
       "      <td>8.908105e-03</td>\n",
       "      <td>0.014776</td>\n",
       "      <td>127.605410</td>\n",
       "      <td>15.510114</td>\n",
       "      <td>0.5</td>\n",
       "    </tr>\n",
       "  </tbody>\n",
       "</table>\n",
       "</div>"
      ],
      "text/plain": [
       "  error       mean_X      deletion        svt_X       knn_X         em_X  \\\n",
       "0   er1  2298.942068  1.235361e-17  4064.640314  903.137246  1387.329053   \n",
       "1   er2    47.930185  2.227237e-09    63.741957   30.040382    37.230969   \n",
       "2  time     0.079799  8.908105e-03     0.014776  127.605410    15.510114   \n",
       "0   er1  2298.942068  1.235361e-17  4064.640314  903.137246  1387.329053   \n",
       "1   er2    47.930185  2.227237e-09    63.741957   30.040382    37.230969   \n",
       "2  time     0.079799  8.908105e-03     0.014776  127.605410    15.510114   \n",
       "0   er1  2298.942068  1.235361e-17  4064.640314  903.137246  1387.329053   \n",
       "1   er2    47.930185  2.227237e-09    63.741957   30.040382    37.230969   \n",
       "2  time     0.079799  8.908105e-03     0.014776  127.605410    15.510114   \n",
       "0   er1  2298.942068  1.235361e-17  4064.640314  903.137246  1387.329053   \n",
       "1   er2    47.930185  2.227237e-09    63.741957   30.040382    37.230969   \n",
       "2  time     0.079799  8.908105e-03     0.014776  127.605410    15.510114   \n",
       "0   er1  2298.942068  1.235361e-17  4064.640314  903.137246  1387.329053   \n",
       "1   er2    47.930185  2.227237e-09    63.741957   30.040382    37.230969   \n",
       "2  time     0.079799  8.908105e-03     0.014776  127.605410    15.510114   \n",
       "\n",
       "   perc_missing  \n",
       "0           0.9  \n",
       "1           0.9  \n",
       "2           0.9  \n",
       "0           0.8  \n",
       "1           0.8  \n",
       "2           0.8  \n",
       "0           0.7  \n",
       "1           0.7  \n",
       "2           0.7  \n",
       "0           0.6  \n",
       "1           0.6  \n",
       "2           0.6  \n",
       "0           0.5  \n",
       "1           0.5  \n",
       "2           0.5  "
      ]
     },
     "execution_count": 53,
     "metadata": {},
     "output_type": "execute_result"
    }
   ],
   "source": [
    "import pandas as pd\n",
    "\n",
    "def read_in(csv, perc_missing):\n",
    "    df = pd.read_csv(csv)\n",
    "    df[\"perc_missing\"] = perc_missing\n",
    "    return df\n",
    "\n",
    "df1 = read_in(\"cross_val.csv\", 0.9)\n",
    "df2 = read_in(\"\", 0.8)\n",
    "df3 = read_in(\"\", 0.7)\n",
    "df4 = read_in(\"\", 0.6)\n",
    "df5 = read_in(\"\", 0.5)\n",
    "\n",
    "df_data = [df1, df2,df3,df4,df5]\n",
    "df = pd.concat(df_data)\n",
    "df"
   ]
  },
  {
   "cell_type": "code",
   "execution_count": 55,
   "metadata": {
    "scrolled": true
   },
   "outputs": [],
   "source": [
    "df_er1 = df[df[\"error\"]==\"er1\"]\n",
    "df_er2 = df[df[\"error\"]==\"er2\"]\n",
    "df_time = df[df[\"error\"]==\"time\"]\n",
    "\n",
    "methods = ['mean_X', 'deletion','svt_X', 'knn_X', 'em_X']"
   ]
  },
  {
   "cell_type": "code",
   "execution_count": 57,
   "metadata": {},
   "outputs": [
    {
     "data": {
      "text/plain": [
       "Text(0, 0.5, 'Run Time')"
      ]
     },
     "execution_count": 57,
     "metadata": {},
     "output_type": "execute_result"
    },
    {
     "data": {
      "image/png": "[encoded data removed]",
      "text/plain": [
       "<Figure size 432x288 with 1 Axes>"
      ]
     },
     "metadata": {
      "needs_background": "light"
     },
     "output_type": "display_data"
    },
    {
     "data": {
      "image/png": "[encoded data removed]",
      "text/plain": [
       "<Figure size 432x288 with 1 Axes>"
      ]
     },
     "metadata": {
      "needs_background": "light"
     },
     "output_type": "display_data"
    },
    {
     "data": {
      "image/png": "[encoded data removed]",
      "text/plain": [
       "<Figure size 432x288 with 1 Axes>"
      ]
     },
     "metadata": {
      "needs_background": "light"
     },
     "output_type": "display_data"
    }
   ],
   "source": [
    "# Full Graphs\n",
    "ax1 = df_er1.plot(kind='line', x='perc_missing', y=methods, color='r', marker=\".\") \n",
    "ax1.set_title(\"Error 1\")\n",
    "ax1.set_xlabel(\"Percent of Data Missing\")\n",
    "ax1.set_ylabel(\"Size of Error\")\n",
    "\n",
    "ax2 = df_er2.plot(kind='line', x='perc_missing', y=methods, color='b', marker=\".\")    \n",
    "ax2.set_title(\"Error 2\")\n",
    "ax2.set_xlabel(\"Percent of Data Missing\")\n",
    "ax2.set_ylabel(\"Size of Error\")\n",
    "\n",
    "ax3 = df_time.plot(kind='line', x='perc_missing', y=methods, color='g', marker=\".\")    \n",
    "ax3.set_title(\"Time To Run Missing Data Imputation Process\")\n",
    "ax3.set_xlabel(\"Percent of Data Missing\")\n",
    "ax3.set_ylabel(\"Run Time\")"
   ]
  },
  {
   "cell_type": "code",
   "execution_count": null,
   "metadata": {},
   "outputs": [],
   "source": []
  },
  {
   "cell_type": "code",
   "execution_count": null,
   "metadata": {},
   "outputs": [],
   "source": []
  }
 ],
 "metadata": {
  "kernelspec": {
   "display_name": "Python 3",
   "language": "python",
   "name": "python3"
  },
  "language_info": {
   "codemirror_mode": {
    "name": "ipython",
    "version": 3
   },
   "file_extension": ".py",
   "mimetype": "text/x-python",
   "name": "python",
   "nbconvert_exporter": "python",
   "pygments_lexer": "ipython3",
   "version": "3.8.5"
  }
 },
 "nbformat": 4,
 "nbformat_minor": 4
}
