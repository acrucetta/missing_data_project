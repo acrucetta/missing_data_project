{
 "cells": [
  {
   "cell_type": "code",
   "execution_count": 1,
   "metadata": {},
   "outputs": [],
   "source": [
    "import numpy as np\n",
    "import pandas as pd\n",
    "import sys  \n",
    "sys.path.insert(0, '../utils')\n",
    "import cross_validation as cv\n",
    "import utils"
   ]
  },
  {
   "cell_type": "code",
   "execution_count": 2,
   "metadata": {},
   "outputs": [
    {
     "name": "stderr",
     "output_type": "stream",
     "text": [
      "../utils/impute_methods.py:8: FutureWarning: Dropping of nuisance columns in DataFrame reductions (with 'numeric_only=None') is deprecated; in a future version this will raise TypeError.  Select only valid columns before calling the reduction.\n",
      "  means = X.mask(Omega!=True).mean(axis=0)\n",
      "../utils/impute_methods.py:8: FutureWarning: Dropping of nuisance columns in DataFrame reductions (with 'numeric_only=None') is deprecated; in a future version this will raise TypeError.  Select only valid columns before calling the reduction.\n",
      "  means = X.mask(Omega!=True).mean(axis=0)\n",
      "../utils/impute_methods.py:8: FutureWarning: Dropping of nuisance columns in DataFrame reductions (with 'numeric_only=None') is deprecated; in a future version this will raise TypeError.  Select only valid columns before calling the reduction.\n",
      "  means = X.mask(Omega!=True).mean(axis=0)\n",
      "../utils/impute_methods.py:8: FutureWarning: Dropping of nuisance columns in DataFrame reductions (with 'numeric_only=None') is deprecated; in a future version this will raise TypeError.  Select only valid columns before calling the reduction.\n",
      "  means = X.mask(Omega!=True).mean(axis=0)\n",
      "../utils/impute_methods.py:8: FutureWarning: Dropping of nuisance columns in DataFrame reductions (with 'numeric_only=None') is deprecated; in a future version this will raise TypeError.  Select only valid columns before calling the reduction.\n",
      "  means = X.mask(Omega!=True).mean(axis=0)\n",
      "../utils/impute_methods.py:8: FutureWarning: Dropping of nuisance columns in DataFrame reductions (with 'numeric_only=None') is deprecated; in a future version this will raise TypeError.  Select only valid columns before calling the reduction.\n",
      "  means = X.mask(Omega!=True).mean(axis=0)\n",
      "../utils/impute_methods.py:8: FutureWarning: Dropping of nuisance columns in DataFrame reductions (with 'numeric_only=None') is deprecated; in a future version this will raise TypeError.  Select only valid columns before calling the reduction.\n",
      "  means = X.mask(Omega!=True).mean(axis=0)\n",
      "../utils/impute_methods.py:8: FutureWarning: Dropping of nuisance columns in DataFrame reductions (with 'numeric_only=None') is deprecated; in a future version this will raise TypeError.  Select only valid columns before calling the reduction.\n",
      "  means = X.mask(Omega!=True).mean(axis=0)\n",
      "../utils/impute_methods.py:8: FutureWarning: Dropping of nuisance columns in DataFrame reductions (with 'numeric_only=None') is deprecated; in a future version this will raise TypeError.  Select only valid columns before calling the reduction.\n",
      "  means = X.mask(Omega!=True).mean(axis=0)\n",
      "../utils/impute_methods.py:8: FutureWarning: Dropping of nuisance columns in DataFrame reductions (with 'numeric_only=None') is deprecated; in a future version this will raise TypeError.  Select only valid columns before calling the reduction.\n",
      "  means = X.mask(Omega!=True).mean(axis=0)\n",
      "../utils/impute_methods.py:8: FutureWarning: Dropping of nuisance columns in DataFrame reductions (with 'numeric_only=None') is deprecated; in a future version this will raise TypeError.  Select only valid columns before calling the reduction.\n",
      "  means = X.mask(Omega!=True).mean(axis=0)\n",
      "../utils/impute_methods.py:8: FutureWarning: Dropping of nuisance columns in DataFrame reductions (with 'numeric_only=None') is deprecated; in a future version this will raise TypeError.  Select only valid columns before calling the reduction.\n",
      "  means = X.mask(Omega!=True).mean(axis=0)\n",
      "../utils/impute_methods.py:8: FutureWarning: Dropping of nuisance columns in DataFrame reductions (with 'numeric_only=None') is deprecated; in a future version this will raise TypeError.  Select only valid columns before calling the reduction.\n",
      "  means = X.mask(Omega!=True).mean(axis=0)\n",
      "../utils/impute_methods.py:8: FutureWarning: Dropping of nuisance columns in DataFrame reductions (with 'numeric_only=None') is deprecated; in a future version this will raise TypeError.  Select only valid columns before calling the reduction.\n",
      "  means = X.mask(Omega!=True).mean(axis=0)\n",
      "../utils/impute_methods.py:8: FutureWarning: Dropping of nuisance columns in DataFrame reductions (with 'numeric_only=None') is deprecated; in a future version this will raise TypeError.  Select only valid columns before calling the reduction.\n",
      "  means = X.mask(Omega!=True).mean(axis=0)\n",
      "../utils/impute_methods.py:8: FutureWarning: Dropping of nuisance columns in DataFrame reductions (with 'numeric_only=None') is deprecated; in a future version this will raise TypeError.  Select only valid columns before calling the reduction.\n",
      "  means = X.mask(Omega!=True).mean(axis=0)\n",
      "../utils/impute_methods.py:8: FutureWarning: Dropping of nuisance columns in DataFrame reductions (with 'numeric_only=None') is deprecated; in a future version this will raise TypeError.  Select only valid columns before calling the reduction.\n",
      "  means = X.mask(Omega!=True).mean(axis=0)\n",
      "../utils/impute_methods.py:8: FutureWarning: Dropping of nuisance columns in DataFrame reductions (with 'numeric_only=None') is deprecated; in a future version this will raise TypeError.  Select only valid columns before calling the reduction.\n",
      "  means = X.mask(Omega!=True).mean(axis=0)\n",
      "../utils/impute_methods.py:8: FutureWarning: Dropping of nuisance columns in DataFrame reductions (with 'numeric_only=None') is deprecated; in a future version this will raise TypeError.  Select only valid columns before calling the reduction.\n",
      "  means = X.mask(Omega!=True).mean(axis=0)\n",
      "../utils/impute_methods.py:8: FutureWarning: Dropping of nuisance columns in DataFrame reductions (with 'numeric_only=None') is deprecated; in a future version this will raise TypeError.  Select only valid columns before calling the reduction.\n",
      "  means = X.mask(Omega!=True).mean(axis=0)\n",
      "../utils/impute_methods.py:8: FutureWarning: Dropping of nuisance columns in DataFrame reductions (with 'numeric_only=None') is deprecated; in a future version this will raise TypeError.  Select only valid columns before calling the reduction.\n",
      "  means = X.mask(Omega!=True).mean(axis=0)\n",
      "../utils/impute_methods.py:8: FutureWarning: Dropping of nuisance columns in DataFrame reductions (with 'numeric_only=None') is deprecated; in a future version this will raise TypeError.  Select only valid columns before calling the reduction.\n",
      "  means = X.mask(Omega!=True).mean(axis=0)\n",
      "../utils/impute_methods.py:8: FutureWarning: Dropping of nuisance columns in DataFrame reductions (with 'numeric_only=None') is deprecated; in a future version this will raise TypeError.  Select only valid columns before calling the reduction.\n",
      "  means = X.mask(Omega!=True).mean(axis=0)\n",
      "../utils/impute_methods.py:8: FutureWarning: Dropping of nuisance columns in DataFrame reductions (with 'numeric_only=None') is deprecated; in a future version this will raise TypeError.  Select only valid columns before calling the reduction.\n",
      "  means = X.mask(Omega!=True).mean(axis=0)\n",
      "../utils/impute_methods.py:8: FutureWarning: Dropping of nuisance columns in DataFrame reductions (with 'numeric_only=None') is deprecated; in a future version this will raise TypeError.  Select only valid columns before calling the reduction.\n",
      "  means = X.mask(Omega!=True).mean(axis=0)\n",
      "../utils/impute_methods.py:8: FutureWarning: Dropping of nuisance columns in DataFrame reductions (with 'numeric_only=None') is deprecated; in a future version this will raise TypeError.  Select only valid columns before calling the reduction.\n",
      "  means = X.mask(Omega!=True).mean(axis=0)\n",
      "../utils/impute_methods.py:8: FutureWarning: Dropping of nuisance columns in DataFrame reductions (with 'numeric_only=None') is deprecated; in a future version this will raise TypeError.  Select only valid columns before calling the reduction.\n",
      "  means = X.mask(Omega!=True).mean(axis=0)\n",
      "../utils/impute_methods.py:8: FutureWarning: Dropping of nuisance columns in DataFrame reductions (with 'numeric_only=None') is deprecated; in a future version this will raise TypeError.  Select only valid columns before calling the reduction.\n",
      "  means = X.mask(Omega!=True).mean(axis=0)\n",
      "../utils/impute_methods.py:8: FutureWarning: Dropping of nuisance columns in DataFrame reductions (with 'numeric_only=None') is deprecated; in a future version this will raise TypeError.  Select only valid columns before calling the reduction.\n",
      "  means = X.mask(Omega!=True).mean(axis=0)\n",
      "../utils/impute_methods.py:8: FutureWarning: Dropping of nuisance columns in DataFrame reductions (with 'numeric_only=None') is deprecated; in a future version this will raise TypeError.  Select only valid columns before calling the reduction.\n",
      "  means = X.mask(Omega!=True).mean(axis=0)\n"
     ]
    },
    {
     "data": {
      "text/plain": [
       "{'mean_X': {'er1': 0.6320011041802113, 'er2': 0.7925761191891804},\n",
       " 'svt_X': {'er1': 0.8132147848962148, 'er2': 0.8985347526458999},\n",
       " 'knn_X': {'er1': 0.6408860577573141, 'er2': 0.797306535887824},\n",
       " 'em_X': {'er1': 0.6676525025439565, 'er2': 0.8143239361643451}}"
      ]
     },
     "execution_count": 2,
     "metadata": {},
     "output_type": "execute_result"
    }
   ],
   "source": [
    "toys = pd.read_csv(\"../data/toy_data.csv\")\n",
    "X = toys.drop([\"Output Value 1\"], axis=1)\n",
    "y = toys[\"Output Value 1\"]\n",
    "\n",
    "results = cv.cross_validation(X, y, 60615, [\"Categorical C\", \"Categorical D\"])\n",
    "results"
   ]
  },
  {
   "cell_type": "markdown",
   "metadata": {},
   "source": [
    "#### Notes\n",
    "1. deletion is currently not working, I think it's changing the input matrix somehow?\n",
    "2. KNN runs into an issue if the entire row is NANs. That shouldn't be an issue for our larger datasets, but it did come up in one of the toy data cases, which is why there is the \"knn.fillna(0)\" lines. We can remove it when running the larger datasets to make sure this doesn't affect our results.\n",
    "3. We might be ending up with EM as one of our best methods. We'll see with the bigger datasets though!"
   ]
  },
  {
   "cell_type": "code",
   "execution_count": 7,
   "metadata": {},
   "outputs": [
    {
     "data": {
      "text/plain": [
       "{'mean_X': {'er1': 0.6522697650191523, 'er2': 0.8054757242902238},\n",
       " 'svt_X': {'er1': 0.8771011903968046, 'er2': 0.9351973360913763},\n",
       " 'knn_X': {'er1': 0.8521295396608228, 'er2': 0.9210268859280508},\n",
       " 'em_X': {'er1': 0.651285953047806, 'er2': 0.8042976308595521}}"
      ]
     },
     "execution_count": 7,
     "metadata": {},
     "output_type": "execute_result"
    }
   ],
   "source": [
    "results2 = cv.cross_validation(X, y, 60615, [\"Categorical C\", \"Categorical D\"], obsp=.65)\n",
    "results2"
   ]
  },
  {
   "cell_type": "code",
   "execution_count": null,
   "metadata": {},
   "outputs": [],
   "source": []
  }
 ],
 "metadata": {
  "kernelspec": {
   "display_name": "Python 3",
   "language": "python",
   "name": "python3"
  },
  "language_info": {
   "codemirror_mode": {
    "name": "ipython",
    "version": 3
   },
   "file_extension": ".py",
   "mimetype": "text/x-python",
   "name": "python",
   "nbconvert_exporter": "python",
   "pygments_lexer": "ipython3",
   "version": "3.7.11"
  }
 },
 "nbformat": 4,
 "nbformat_minor": 4
}
