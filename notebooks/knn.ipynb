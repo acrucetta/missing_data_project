{
 "cells": [
  {
   "cell_type": "code",
   "execution_count": 3,
   "metadata": {},
   "outputs": [],
   "source": [
    "import numpy as np\n",
    "import pandas as pd\n",
    "from sklearn.preprocessing import MinMaxScaler\n",
    "from sklearn.metrics.pairwise import nan_euclidean_distances"
   ]
  },
  {
   "cell_type": "code",
   "execution_count": 176,
   "metadata": {},
   "outputs": [],
   "source": [
    "df = pd.read_csv('/Users/andrescrucettanieto/Documents/GitHub/missing_data_project/data/toy_data.csv')"
   ]
  },
  {
   "cell_type": "code",
   "execution_count": 177,
   "metadata": {},
   "outputs": [],
   "source": [
    "def kSmallest(arr, k):\n",
    "    \n",
    "    # Sort the given array \n",
    "    arr_i = arr.copy()\n",
    "    arr_i.sort()\n",
    "  \n",
    "    # Return k'th element in the sorted array \n",
    "    # Skips the first element since it contains \n",
    "    # the value 0\n",
    "    return arr_i[1:k+1]"
   ]
  },
  {
   "cell_type": "code",
   "execution_count": 185,
   "metadata": {},
   "outputs": [],
   "source": [
    "def normalize_data(df):\n",
    "    '''\n",
    "    Normalizes the data in X\n",
    "    '''\n",
    "    scaler = MinMaxScaler()\n",
    "    df = pd.DataFrame(scaler.fit_transform(df), columns = df.columns)\n",
    "    return df"
   ]
  },
  {
   "cell_type": "code",
   "execution_count": 142,
   "metadata": {},
   "outputs": [],
   "source": [
    "array_column = np.array([[1],[5],[3],[4],[5],[6],[1],[8],[3],[2]])\n",
    "ksmallest = kSmallest(array_column, 3)"
   ]
  },
  {
   "cell_type": "code",
   "execution_count": 112,
   "metadata": {},
   "outputs": [
    {
     "data": {
      "text/plain": [
       "array([1, 2, 3])"
      ]
     },
     "execution_count": 112,
     "metadata": {},
     "output_type": "execute_result"
    }
   ],
   "source": [
    "ksmallest"
   ]
  },
  {
   "cell_type": "code",
   "execution_count": 113,
   "metadata": {},
   "outputs": [
    {
     "data": {
      "text/plain": [
       "array([0, 2, 6, 8, 9])"
      ]
     },
     "execution_count": 113,
     "metadata": {},
     "output_type": "execute_result"
    }
   ],
   "source": [
    "np.where(array_column == ksmallest)[0]"
   ]
  },
  {
   "cell_type": "code",
   "execution_count": 186,
   "metadata": {},
   "outputs": [],
   "source": [
    "numeric_df = df.select_dtypes(include=[np.number])"
   ]
  },
  {
   "cell_type": "code",
   "execution_count": 190,
   "metadata": {},
   "outputs": [],
   "source": [
    "numeric_df\n",
    "numeric_df =  normalize_data(numeric_df)"
   ]
  },
  {
   "cell_type": "code",
   "execution_count": 191,
   "metadata": {},
   "outputs": [
    {
     "data": {
      "text/plain": [
       "Numerical A       0.040629\n",
       "Numerical B       0.296947\n",
       "Output Value 1    0.000000\n",
       "Name: 0, dtype: float64"
      ]
     },
     "execution_count": 191,
     "metadata": {},
     "output_type": "execute_result"
    }
   ],
   "source": [
    "euclidean_row = numeric_df.iloc[0]\n",
    "euclidean_row"
   ]
  },
  {
   "cell_type": "code",
   "execution_count": null,
   "metadata": {},
   "outputs": [],
   "source": []
  },
  {
   "cell_type": "code",
   "execution_count": 192,
   "metadata": {},
   "outputs": [
    {
     "name": "stdout",
     "output_type": "stream",
     "text": [
      "[2, 6]\n",
      "2 0\n",
      "6 0\n",
      "[4]\n",
      "4 1\n",
      "[2, 5]\n",
      "2 2\n",
      "5 2\n"
     ]
    }
   ],
   "source": [
    "k = 3\n",
    "\n",
    "for j in range(len(numeric_df.columns)):\n",
    "    lst_missing = numeric_df.iloc[:,j][numeric_df.iloc[:,j].isnull()].index.to_list()\n",
    "    print(lst_missing)\n",
    "    for i in lst_missing:\n",
    "        # Get the comparison row\n",
    "        euclidean_row = numeric_df.iloc[i]\n",
    "        \n",
    "        # Take euclidean distances of the other columns\n",
    "        euclidean_distances = nan_euclidean_distances(numeric_df, [euclidean_row.to_list()])\n",
    "        \n",
    "        # Flatten the euclidean distance array\n",
    "        euc_flattened = euclidean_distances.flatten(order='F')\n",
    "        \n",
    "        # Get the k smallest distances\n",
    "        k_nearest = kSmallest(euc_flattened, k)\n",
    "        k_nearest_indices = np.where(np.in1d(euc_flattened, k_nearest))[0]\n",
    "        \n",
    "        # Get mean of the k nearest neighbors\n",
    "        k_mean = numeric_df.iloc[k_nearest_indices].iloc[:,j].mean()\n",
    "        \n",
    "        # Assigning the value to the nan row cell\n",
    "        print(i,j)\n",
    "        numeric_df.iloc[i].iloc[j]=k_mean"
   ]
  },
  {
   "cell_type": "code",
   "execution_count": 193,
   "metadata": {},
   "outputs": [
    {
     "data": {
      "text/html": [
       "<div>\n",
       "<style scoped>\n",
       "    .dataframe tbody tr th:only-of-type {\n",
       "        vertical-align: middle;\n",
       "    }\n",
       "\n",
       "    .dataframe tbody tr th {\n",
       "        vertical-align: top;\n",
       "    }\n",
       "\n",
       "    .dataframe thead th {\n",
       "        text-align: right;\n",
       "    }\n",
       "</style>\n",
       "<table border=\"1\" class=\"dataframe\">\n",
       "  <thead>\n",
       "    <tr style=\"text-align: right;\">\n",
       "      <th></th>\n",
       "      <th>Numerical A</th>\n",
       "      <th>Numerical B</th>\n",
       "      <th>Output Value 1</th>\n",
       "    </tr>\n",
       "  </thead>\n",
       "  <tbody>\n",
       "    <tr>\n",
       "      <th>0</th>\n",
       "      <td>0.040629</td>\n",
       "      <td>0.296947</td>\n",
       "      <td>0.000000</td>\n",
       "    </tr>\n",
       "    <tr>\n",
       "      <th>1</th>\n",
       "      <td>0.000000</td>\n",
       "      <td>0.489844</td>\n",
       "      <td>0.046875</td>\n",
       "    </tr>\n",
       "    <tr>\n",
       "      <th>2</th>\n",
       "      <td>0.346876</td>\n",
       "      <td>0.280872</td>\n",
       "      <td>0.304688</td>\n",
       "    </tr>\n",
       "    <tr>\n",
       "      <th>3</th>\n",
       "      <td>0.314548</td>\n",
       "      <td>0.665919</td>\n",
       "      <td>0.585938</td>\n",
       "    </tr>\n",
       "    <tr>\n",
       "      <th>4</th>\n",
       "      <td>0.716907</td>\n",
       "      <td>0.329429</td>\n",
       "      <td>0.035156</td>\n",
       "    </tr>\n",
       "    <tr>\n",
       "      <th>5</th>\n",
       "      <td>1.000000</td>\n",
       "      <td>0.182928</td>\n",
       "      <td>0.304688</td>\n",
       "    </tr>\n",
       "    <tr>\n",
       "      <th>6</th>\n",
       "      <td>0.553808</td>\n",
       "      <td>0.000000</td>\n",
       "      <td>0.878906</td>\n",
       "    </tr>\n",
       "    <tr>\n",
       "      <th>7</th>\n",
       "      <td>0.730013</td>\n",
       "      <td>0.524486</td>\n",
       "      <td>0.000000</td>\n",
       "    </tr>\n",
       "    <tr>\n",
       "      <th>8</th>\n",
       "      <td>0.828309</td>\n",
       "      <td>1.000000</td>\n",
       "      <td>1.000000</td>\n",
       "    </tr>\n",
       "  </tbody>\n",
       "</table>\n",
       "</div>"
      ],
      "text/plain": [
       "   Numerical A  Numerical B  Output Value 1\n",
       "0     0.040629     0.296947        0.000000\n",
       "1     0.000000     0.489844        0.046875\n",
       "2     0.346876     0.280872        0.304688\n",
       "3     0.314548     0.665919        0.585938\n",
       "4     0.716907     0.329429        0.035156\n",
       "5     1.000000     0.182928        0.304688\n",
       "6     0.553808     0.000000        0.878906\n",
       "7     0.730013     0.524486        0.000000\n",
       "8     0.828309     1.000000        1.000000"
      ]
     },
     "execution_count": 193,
     "metadata": {},
     "output_type": "execute_result"
    }
   ],
   "source": [
    "numeric_df"
   ]
  },
  {
   "cell_type": "code",
   "execution_count": 151,
   "metadata": {},
   "outputs": [],
   "source": [
    "vals = numeric_df.iloc[k_nearest_indices].iloc[:,0].mean()"
   ]
  },
  {
   "cell_type": "code",
   "execution_count": 155,
   "metadata": {},
   "outputs": [],
   "source": [
    "numeric_df.iloc[2].iloc[0]=vals"
   ]
  },
  {
   "cell_type": "code",
   "execution_count": 156,
   "metadata": {},
   "outputs": [
    {
     "data": {
      "text/html": [
       "<div>\n",
       "<style scoped>\n",
       "    .dataframe tbody tr th:only-of-type {\n",
       "        vertical-align: middle;\n",
       "    }\n",
       "\n",
       "    .dataframe tbody tr th {\n",
       "        vertical-align: top;\n",
       "    }\n",
       "\n",
       "    .dataframe thead th {\n",
       "        text-align: right;\n",
       "    }\n",
       "</style>\n",
       "<table border=\"1\" class=\"dataframe\">\n",
       "  <thead>\n",
       "    <tr style=\"text-align: right;\">\n",
       "      <th></th>\n",
       "      <th>Numerical A</th>\n",
       "      <th>Numerical B</th>\n",
       "      <th>Output Value 1</th>\n",
       "    </tr>\n",
       "  </thead>\n",
       "  <tbody>\n",
       "    <tr>\n",
       "      <th>0</th>\n",
       "      <td>1.130000</td>\n",
       "      <td>26.96</td>\n",
       "      <td>1.65</td>\n",
       "    </tr>\n",
       "    <tr>\n",
       "      <th>1</th>\n",
       "      <td>0.820000</td>\n",
       "      <td>42.44</td>\n",
       "      <td>1.77</td>\n",
       "    </tr>\n",
       "    <tr>\n",
       "      <th>2</th>\n",
       "      <td>3.466667</td>\n",
       "      <td>25.67</td>\n",
       "      <td>NaN</td>\n",
       "    </tr>\n",
       "    <tr>\n",
       "      <th>3</th>\n",
       "      <td>3.220000</td>\n",
       "      <td>56.57</td>\n",
       "      <td>3.15</td>\n",
       "    </tr>\n",
       "    <tr>\n",
       "      <th>4</th>\n",
       "      <td>6.290000</td>\n",
       "      <td>NaN</td>\n",
       "      <td>1.74</td>\n",
       "    </tr>\n",
       "    <tr>\n",
       "      <th>5</th>\n",
       "      <td>8.450000</td>\n",
       "      <td>17.81</td>\n",
       "      <td>NaN</td>\n",
       "    </tr>\n",
       "    <tr>\n",
       "      <th>6</th>\n",
       "      <td>NaN</td>\n",
       "      <td>3.13</td>\n",
       "      <td>3.90</td>\n",
       "    </tr>\n",
       "    <tr>\n",
       "      <th>7</th>\n",
       "      <td>6.390000</td>\n",
       "      <td>45.22</td>\n",
       "      <td>1.65</td>\n",
       "    </tr>\n",
       "    <tr>\n",
       "      <th>8</th>\n",
       "      <td>7.140000</td>\n",
       "      <td>83.38</td>\n",
       "      <td>4.21</td>\n",
       "    </tr>\n",
       "  </tbody>\n",
       "</table>\n",
       "</div>"
      ],
      "text/plain": [
       "   Numerical A  Numerical B  Output Value 1\n",
       "0     1.130000        26.96            1.65\n",
       "1     0.820000        42.44            1.77\n",
       "2     3.466667        25.67             NaN\n",
       "3     3.220000        56.57            3.15\n",
       "4     6.290000          NaN            1.74\n",
       "5     8.450000        17.81             NaN\n",
       "6          NaN         3.13            3.90\n",
       "7     6.390000        45.22            1.65\n",
       "8     7.140000        83.38            4.21"
      ]
     },
     "execution_count": 156,
     "metadata": {},
     "output_type": "execute_result"
    }
   ],
   "source": [
    "numeric_df"
   ]
  },
  {
   "cell_type": "code",
   "execution_count": null,
   "metadata": {},
   "outputs": [],
   "source": [
    "# Iterate over the other columns and calculate the euclidean distance\n",
    "\n",
    "# Choose the k nearest neighbors to the value\n",
    "\n",
    "# Average out the values and impute the missing value"
   ]
  }
 ],
 "metadata": {
  "interpreter": {
   "hash": "3c92b9511f36e0c473d065dabb6162ef79417fb874550b65bd1ca7cc45449378"
  },
  "kernelspec": {
   "display_name": "Python 3.7.11 64-bit ('macs30123': conda)",
   "language": "python",
   "name": "python3"
  },
  "language_info": {
   "codemirror_mode": {
    "name": "ipython",
    "version": 3
   },
   "file_extension": ".py",
   "mimetype": "text/x-python",
   "name": "python",
   "nbconvert_exporter": "python",
   "pygments_lexer": "ipython3",
   "version": "3.9.0"
  },
  "orig_nbformat": 4
 },
 "nbformat": 4,
 "nbformat_minor": 2
}
