{
 "cells": [
  {
   "cell_type": "code",
   "execution_count": 16,
   "metadata": {},
   "outputs": [],
   "source": [
    "import numpy as np\n",
    "import pandas as pd\n",
    "from sklearn.preprocessing import MinMaxScaler\n",
    "from sklearn.metrics.pairwise import nan_euclidean_distances\n",
    "from sklearn.neighbors import KNNi"
   ]
  },
  {
   "cell_type": "code",
   "execution_count": 17,
   "metadata": {},
   "outputs": [],
   "source": [
    "df = pd.read_csv('/Users/andrescrucettanieto/Documents/GitHub/missing_data_project/data/toy_data.csv')"
   ]
  },
  {
   "cell_type": "code",
   "execution_count": 34,
   "metadata": {},
   "outputs": [],
   "source": [
    "import numpy as np\n",
    "import pandas as pd\n",
    "from sklearn.preprocessing import MinMaxScaler\n",
    "from sklearn.metrics.pairwise import nan_euclidean_distances\n",
    "\n",
    "'''\n",
    "To find out the weights following steps have to be taken:\n",
    "\n",
    "1) Choose missing value to fill in the data.\n",
    "2) Select the values in a row\n",
    "3) Choose the number of neighbors you want to work with (ideally 2-5)\n",
    "4)Calculate Euclidean distance from all other data points corresponding to each other in the row.\n",
    "5) Select the smallest 2 and average out.\n",
    "\n",
    "Sources used:\n",
    "- https://machinelearningmastery.com/knn-imputation-for-missing-values-in-machine-learning/\n",
    "- https://www.numpyninja.com/post/mice-and-knn-missing-value-imputations-through-python\n",
    "- https://scikit-learn.org/stable/modules/generated/sklearn.metrics.pairwise.nan_euclidean_distances.html\n",
    "- https://chrisalbon.com/code/machine_learning/preprocessing_structured_data/imputing_missing_class_labels_using_k-nearest_neighbors/\n",
    "\n",
    "'''\n",
    "\n",
    "def normalize_data(df):\n",
    "    '''\n",
    "    Normalizes the data in X\n",
    "    \n",
    "    Input:\n",
    "        - df: dataframe\n",
    "    Output:\n",
    "        - df: normalized dataframe\n",
    "    '''\n",
    "    scaler = MinMaxScaler()\n",
    "    df = pd.DataFrame(scaler.fit_transform(df), columns = df.columns)\n",
    "    return df\n",
    "\n",
    "def kSmallest(arr, k):\n",
    "    '''\n",
    "    Gets the k smallest values in an array\n",
    "    \n",
    "    Input:\n",
    "        - arr: array\n",
    "        - k: number of smallest values to return\n",
    "    Output:\n",
    "        - k_smallest: k smallest values in the array\n",
    "    '''\n",
    "    # Sort the given array \n",
    "    arr_i = arr.copy()\n",
    "    arr_i.sort()\n",
    "  \n",
    "    # Return k'th element in the sorted array \n",
    "    # Skips the first element since it contains \n",
    "    # the value 0\n",
    "    return arr_i[1:k+1]\n",
    "\n",
    "def KNN_imputation(df, k=5):\n",
    "    '''\n",
    "    Recieves a dataframe df and imputes the missing values\n",
    "    using a K Nearest Neighbors imputer algorithm.\n",
    "    \n",
    "    Input:\n",
    "        - df: dataframe\n",
    "        - k: number of neighbors to use\n",
    "    Output:\n",
    "        - df: dataframe with missing values imputed\n",
    "    '''\n",
    "    # Extracting the numerical columns\n",
    "    numeric_df = df.select_dtypes(include=['float64', 'int64'])\n",
    "    \n",
    "    # Normalizing the data\n",
    "    numeric_df = normalize_data(numeric_df)\n",
    "    \n",
    "    # Iterating over each column\n",
    "    for j in range(len(numeric_df.columns)):\n",
    "        lst_missing = numeric_df.iloc[:,j][numeric_df.iloc[:,j].isnull()].index.to_list()\n",
    "        \n",
    "        # Iterating over missing rows\n",
    "        for i in lst_missing:\n",
    "            # Get the comparison row\n",
    "            euclidean_row = numeric_df.iloc[i]\n",
    "            \n",
    "            # Take euclidean distances of the other columns\n",
    "            euclidean_distances = nan_euclidean_distances(numeric_df, [euclidean_row.to_list()])\n",
    "            \n",
    "            # Flatten the euclidean distance array\n",
    "            euc_flattened = euclidean_distances.flatten(order='F')\n",
    "            \n",
    "            # Get the k smallest distances\n",
    "            k_nearest = kSmallest(euc_flattened, k)\n",
    "            k_nearest_indices = np.where(np.in1d(euc_flattened, k_nearest))[0]\n",
    "            \n",
    "            # Get mean of the k nearest neighbors\n",
    "            k_mean = numeric_df.iloc[k_nearest_indices].iloc[:,j].mean()\n",
    "            \n",
    "            # Assigning the value to the nan row cell\n",
    "            print(i,j)\n",
    "            numeric_df.iloc[i].iloc[j]=k_mean\n",
    "    return numeric_df\n",
    "    "
   ]
  },
  {
   "cell_type": "code",
   "execution_count": 37,
   "metadata": {},
   "outputs": [],
   "source": [
    "numeric_df = df.select_dtypes(include=['float64', 'int64'])"
   ]
  },
  {
   "cell_type": "code",
   "execution_count": 40,
   "metadata": {},
   "outputs": [
    {
     "data": {
      "text/html": [
       "<div>\n",
       "<style scoped>\n",
       "    .dataframe tbody tr th:only-of-type {\n",
       "        vertical-align: middle;\n",
       "    }\n",
       "\n",
       "    .dataframe tbody tr th {\n",
       "        vertical-align: top;\n",
       "    }\n",
       "\n",
       "    .dataframe thead th {\n",
       "        text-align: right;\n",
       "    }\n",
       "</style>\n",
       "<table border=\"1\" class=\"dataframe\">\n",
       "  <thead>\n",
       "    <tr style=\"text-align: right;\">\n",
       "      <th></th>\n",
       "      <th>Numerical A</th>\n",
       "      <th>Numerical B</th>\n",
       "      <th>Output Value 1</th>\n",
       "    </tr>\n",
       "  </thead>\n",
       "  <tbody>\n",
       "    <tr>\n",
       "      <th>0</th>\n",
       "      <td>0.040629</td>\n",
       "      <td>0.296947</td>\n",
       "      <td>0.000000</td>\n",
       "    </tr>\n",
       "    <tr>\n",
       "      <th>1</th>\n",
       "      <td>0.000000</td>\n",
       "      <td>0.489844</td>\n",
       "      <td>0.046875</td>\n",
       "    </tr>\n",
       "    <tr>\n",
       "      <th>2</th>\n",
       "      <td>NaN</td>\n",
       "      <td>0.280872</td>\n",
       "      <td>NaN</td>\n",
       "    </tr>\n",
       "    <tr>\n",
       "      <th>3</th>\n",
       "      <td>0.314548</td>\n",
       "      <td>0.665919</td>\n",
       "      <td>0.585938</td>\n",
       "    </tr>\n",
       "    <tr>\n",
       "      <th>4</th>\n",
       "      <td>0.716907</td>\n",
       "      <td>NaN</td>\n",
       "      <td>0.035156</td>\n",
       "    </tr>\n",
       "    <tr>\n",
       "      <th>5</th>\n",
       "      <td>1.000000</td>\n",
       "      <td>0.182928</td>\n",
       "      <td>NaN</td>\n",
       "    </tr>\n",
       "    <tr>\n",
       "      <th>6</th>\n",
       "      <td>NaN</td>\n",
       "      <td>0.000000</td>\n",
       "      <td>0.878906</td>\n",
       "    </tr>\n",
       "    <tr>\n",
       "      <th>7</th>\n",
       "      <td>0.730013</td>\n",
       "      <td>0.524486</td>\n",
       "      <td>0.000000</td>\n",
       "    </tr>\n",
       "    <tr>\n",
       "      <th>8</th>\n",
       "      <td>0.828309</td>\n",
       "      <td>1.000000</td>\n",
       "      <td>1.000000</td>\n",
       "    </tr>\n",
       "  </tbody>\n",
       "</table>\n",
       "</div>"
      ],
      "text/plain": [
       "   Numerical A  Numerical B  Output Value 1\n",
       "0     0.040629     0.296947        0.000000\n",
       "1     0.000000     0.489844        0.046875\n",
       "2          NaN     0.280872             NaN\n",
       "3     0.314548     0.665919        0.585938\n",
       "4     0.716907          NaN        0.035156\n",
       "5     1.000000     0.182928             NaN\n",
       "6          NaN     0.000000        0.878906\n",
       "7     0.730013     0.524486        0.000000\n",
       "8     0.828309     1.000000        1.000000"
      ]
     },
     "execution_count": 40,
     "metadata": {},
     "output_type": "execute_result"
    }
   ],
   "source": [
    "normalize_data(numeric_df)"
   ]
  },
  {
   "cell_type": "code",
   "execution_count": 36,
   "metadata": {},
   "outputs": [
    {
     "name": "stdout",
     "output_type": "stream",
     "text": [
      "2 0\n",
      "6 0\n",
      "4 1\n",
      "2 2\n",
      "5 2\n"
     ]
    },
    {
     "data": {
      "text/html": [
       "<div>\n",
       "<style scoped>\n",
       "    .dataframe tbody tr th:only-of-type {\n",
       "        vertical-align: middle;\n",
       "    }\n",
       "\n",
       "    .dataframe tbody tr th {\n",
       "        vertical-align: top;\n",
       "    }\n",
       "\n",
       "    .dataframe thead th {\n",
       "        text-align: right;\n",
       "    }\n",
       "</style>\n",
       "<table border=\"1\" class=\"dataframe\">\n",
       "  <thead>\n",
       "    <tr style=\"text-align: right;\">\n",
       "      <th></th>\n",
       "      <th>Numerical A</th>\n",
       "      <th>Numerical B</th>\n",
       "      <th>Output Value 1</th>\n",
       "    </tr>\n",
       "  </thead>\n",
       "  <tbody>\n",
       "    <tr>\n",
       "      <th>0</th>\n",
       "      <td>0.040629</td>\n",
       "      <td>0.296947</td>\n",
       "      <td>0.000000</td>\n",
       "    </tr>\n",
       "    <tr>\n",
       "      <th>1</th>\n",
       "      <td>0.000000</td>\n",
       "      <td>0.489844</td>\n",
       "      <td>0.046875</td>\n",
       "    </tr>\n",
       "    <tr>\n",
       "      <th>2</th>\n",
       "      <td>0.442661</td>\n",
       "      <td>0.280872</td>\n",
       "      <td>0.228516</td>\n",
       "    </tr>\n",
       "    <tr>\n",
       "      <th>3</th>\n",
       "      <td>0.314548</td>\n",
       "      <td>0.665919</td>\n",
       "      <td>0.585938</td>\n",
       "    </tr>\n",
       "    <tr>\n",
       "      <th>4</th>\n",
       "      <td>0.716907</td>\n",
       "      <td>0.321308</td>\n",
       "      <td>0.035156</td>\n",
       "    </tr>\n",
       "    <tr>\n",
       "      <th>5</th>\n",
       "      <td>1.000000</td>\n",
       "      <td>0.182928</td>\n",
       "      <td>0.285645</td>\n",
       "    </tr>\n",
       "    <tr>\n",
       "      <th>6</th>\n",
       "      <td>0.449459</td>\n",
       "      <td>0.000000</td>\n",
       "      <td>0.878906</td>\n",
       "    </tr>\n",
       "    <tr>\n",
       "      <th>7</th>\n",
       "      <td>0.730013</td>\n",
       "      <td>0.524486</td>\n",
       "      <td>0.000000</td>\n",
       "    </tr>\n",
       "    <tr>\n",
       "      <th>8</th>\n",
       "      <td>0.828309</td>\n",
       "      <td>1.000000</td>\n",
       "      <td>1.000000</td>\n",
       "    </tr>\n",
       "  </tbody>\n",
       "</table>\n",
       "</div>"
      ],
      "text/plain": [
       "   Numerical A  Numerical B  Output Value 1\n",
       "0     0.040629     0.296947        0.000000\n",
       "1     0.000000     0.489844        0.046875\n",
       "2     0.442661     0.280872        0.228516\n",
       "3     0.314548     0.665919        0.585938\n",
       "4     0.716907     0.321308        0.035156\n",
       "5     1.000000     0.182928        0.285645\n",
       "6     0.449459     0.000000        0.878906\n",
       "7     0.730013     0.524486        0.000000\n",
       "8     0.828309     1.000000        1.000000"
      ]
     },
     "execution_count": 36,
     "metadata": {},
     "output_type": "execute_result"
    }
   ],
   "source": [
    "KNN_imputation(df, k=4)"
   ]
  },
  {
   "cell_type": "code",
   "execution_count": 41,
   "metadata": {},
   "outputs": [
    {
     "data": {
      "text/plain": [
       "array([[0.0406291 , 0.29694704, 0.        ],\n",
       "       [0.        , 0.48984424, 0.046875  ],\n",
       "       [0.44266055, 0.28087227, 0.23144531],\n",
       "       [0.31454784, 0.665919  , 0.5859375 ],\n",
       "       [0.71690695, 0.41757009, 0.03515625],\n",
       "       [1.        , 0.18292835, 0.47851562],\n",
       "       [0.33879423, 0.        , 0.87890625],\n",
       "       [0.73001311, 0.52448598, 0.        ],\n",
       "       [0.82830931, 1.        , 1.        ]])"
      ]
     },
     "execution_count": 41,
     "metadata": {},
     "output_type": "execute_result"
    }
   ],
   "source": [
    "import numpy as np\n",
    "from sklearn.impute import KNNImputer\n",
    "imputer = KNNImputer(n_neighbors=4)\n",
    "imputer.fit_transform(normalize_data(numeric_df))"
   ]
  },
  {
   "cell_type": "code",
   "execution_count": 30,
   "metadata": {},
   "outputs": [
    {
     "data": {
      "text/plain": [
       "array([[1. , 2. , 4. ],\n",
       "       [3. , 4. , 3. ],\n",
       "       [5.5, 6. , 5. ],\n",
       "       [8. , 8. , 7. ]])"
      ]
     },
     "execution_count": 30,
     "metadata": {},
     "output_type": "execute_result"
    }
   ],
   "source": [
    "import numpy as np\n",
    "from sklearn.impute import KNNImputer\n",
    "X = np.array([[1, 2, np.nan], [3, 4, 3], [np.nan, 6, 5], [8, 8, 7]])\n",
    "imputer = KNNImputer(n_neighbors=2)\n",
    "imputer.fit_transform(X)"
   ]
  },
  {
   "cell_type": "code",
   "execution_count": 29,
   "metadata": {},
   "outputs": [
    {
     "name": "stdout",
     "output_type": "stream",
     "text": [
      "[[ 1.  2. nan]\n",
      " [ 3.  4.  3.]\n",
      " [nan  6.  5.]\n",
      " [ 8.  8.  7.]]\n"
     ]
    }
   ],
   "source": [
    "print(X)"
   ]
  },
  {
   "cell_type": "code",
   "execution_count": 31,
   "metadata": {},
   "outputs": [
    {
     "ename": "AttributeError",
     "evalue": "'numpy.ndarray' object has no attribute 'to_pandas'",
     "output_type": "error",
     "traceback": [
      "\u001b[0;31m---------------------------------------------------------------------------\u001b[0m",
      "\u001b[0;31mAttributeError\u001b[0m                            Traceback (most recent call last)",
      "\u001b[0;32m/var/folders/_y/rh14dq4163g6bmcj4knv4kzw0000gn/T/ipykernel_77444/261050830.py\u001b[0m in \u001b[0;36m<module>\u001b[0;34m\u001b[0m\n\u001b[0;32m----> 1\u001b[0;31m \u001b[0mX\u001b[0m\u001b[0;34m.\u001b[0m\u001b[0mto_pandas\u001b[0m\u001b[0;34m(\u001b[0m\u001b[0;34m)\u001b[0m\u001b[0;34m\u001b[0m\u001b[0;34m\u001b[0m\u001b[0m\n\u001b[0m",
      "\u001b[0;31mAttributeError\u001b[0m: 'numpy.ndarray' object has no attribute 'to_pandas'"
     ]
    }
   ],
   "source": []
  },
  {
   "cell_type": "code",
   "execution_count": null,
   "metadata": {},
   "outputs": [],
   "source": []
  }
 ],
 "metadata": {
  "interpreter": {
   "hash": "3c92b9511f36e0c473d065dabb6162ef79417fb874550b65bd1ca7cc45449378"
  },
  "kernelspec": {
   "display_name": "Python 3.7.11 64-bit ('macs30123': conda)",
   "language": "python",
   "name": "python3"
  },
  "language_info": {
   "codemirror_mode": {
    "name": "ipython",
    "version": 3
   },
   "file_extension": ".py",
   "mimetype": "text/x-python",
   "name": "python",
   "nbconvert_exporter": "python",
   "pygments_lexer": "ipython3",
   "version": "3.7.11"
  },
  "orig_nbformat": 4
 },
 "nbformat": 4,
 "nbformat_minor": 2
}
