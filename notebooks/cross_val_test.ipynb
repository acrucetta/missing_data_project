{
 "cells": [
  {
   "cell_type": "code",
   "execution_count": 1,
   "metadata": {},
   "outputs": [],
   "source": [
    "import numpy as np\n",
    "import pandas as pd\n",
    "import sys  \n",
    "sys.path.insert(0, '../utils')\n",
    "import cross_validation as cv\n",
    "import utils"
   ]
  },
  {
   "cell_type": "code",
   "execution_count": 2,
   "metadata": {},
   "outputs": [],
   "source": [
    "bikey, bikeX = utils.read_in(utils.bike_file_path,dataset='bike')"
   ]
  },
  {
   "cell_type": "code",
   "execution_count": 3,
   "metadata": {},
   "outputs": [
    {
     "name": "stdout",
     "output_type": "stream",
     "text": [
      "At mean, iteration 0, time: 1639086178.134494\n",
      "At SVT, iteration 0, time: 1639086178.233668\n",
      "At KNN, iteration 0, time: 1639086178.254998\n"
     ]
    },
    {
     "name": "stderr",
     "output_type": "stream",
     "text": [
      "../utils/impute_methods.py:8: FutureWarning: Dropping of nuisance columns in DataFrame reductions (with 'numeric_only=None') is deprecated; in a future version this will raise TypeError.  Select only valid columns before calling the reduction.\n",
      "  means = X.mask(Omega!=True).mean(axis=0)\n"
     ]
    },
    {
     "name": "stdout",
     "output_type": "stream",
     "text": [
      "At EM, iteration 0, time: 1639086307.237257\n",
      "At LS, iteration 0, time: 1639086328.010156\n",
      "At Deletion, iteration 0, time: 1639086331.16712\n",
      "At mean, iteration 1, time: 1639086331.491395\n",
      "At SVT, iteration 1, time: 1639086331.5598562\n",
      "At KNN, iteration 1, time: 1639086331.571881\n"
     ]
    },
    {
     "name": "stderr",
     "output_type": "stream",
     "text": [
      "../utils/impute_methods.py:8: FutureWarning: Dropping of nuisance columns in DataFrame reductions (with 'numeric_only=None') is deprecated; in a future version this will raise TypeError.  Select only valid columns before calling the reduction.\n",
      "  means = X.mask(Omega!=True).mean(axis=0)\n"
     ]
    },
    {
     "name": "stdout",
     "output_type": "stream",
     "text": [
      "At EM, iteration 1, time: 1639086461.832026\n",
      "At LS, iteration 1, time: 1639086485.311857\n",
      "At Deletion, iteration 1, time: 1639086489.335888\n",
      "At mean, iteration 2, time: 1639086489.8764899\n",
      "At SVT, iteration 2, time: 1639086489.967045\n",
      "At KNN, iteration 2, time: 1639086489.982166\n"
     ]
    },
    {
     "name": "stderr",
     "output_type": "stream",
     "text": [
      "../utils/impute_methods.py:8: FutureWarning: Dropping of nuisance columns in DataFrame reductions (with 'numeric_only=None') is deprecated; in a future version this will raise TypeError.  Select only valid columns before calling the reduction.\n",
      "  means = X.mask(Omega!=True).mean(axis=0)\n"
     ]
    },
    {
     "name": "stdout",
     "output_type": "stream",
     "text": [
      "At EM, iteration 2, time: 1639086620.2816541\n",
      "At LS, iteration 2, time: 1639086628.279814\n",
      "At Deletion, iteration 2, time: 1639086631.542324\n",
      "At mean, iteration 3, time: 1639086631.8444932\n",
      "At SVT, iteration 3, time: 1639086631.913696\n",
      "At KNN, iteration 3, time: 1639086631.925215\n"
     ]
    },
    {
     "name": "stderr",
     "output_type": "stream",
     "text": [
      "../utils/impute_methods.py:8: FutureWarning: Dropping of nuisance columns in DataFrame reductions (with 'numeric_only=None') is deprecated; in a future version this will raise TypeError.  Select only valid columns before calling the reduction.\n",
      "  means = X.mask(Omega!=True).mean(axis=0)\n"
     ]
    },
    {
     "name": "stdout",
     "output_type": "stream",
     "text": [
      "At EM, iteration 3, time: 1639086757.069498\n",
      "At LS, iteration 3, time: 1639086778.214832\n",
      "At Deletion, iteration 3, time: 1639086782.087082\n",
      "At mean, iteration 4, time: 1639086782.538338\n",
      "At SVT, iteration 4, time: 1639086782.618321\n",
      "At KNN, iteration 4, time: 1639086782.631843\n"
     ]
    },
    {
     "name": "stderr",
     "output_type": "stream",
     "text": [
      "../utils/impute_methods.py:8: FutureWarning: Dropping of nuisance columns in DataFrame reductions (with 'numeric_only=None') is deprecated; in a future version this will raise TypeError.  Select only valid columns before calling the reduction.\n",
      "  means = X.mask(Omega!=True).mean(axis=0)\n"
     ]
    },
    {
     "name": "stdout",
     "output_type": "stream",
     "text": [
      "At EM, iteration 4, time: 1639086923.521399\n",
      "At LS, iteration 4, time: 1639086949.597318\n",
      "At Deletion, iteration 4, time: 1639086954.313031\n",
      "At mean, iteration 5, time: 1639086954.8009229\n",
      "At SVT, iteration 5, time: 1639086954.8918378\n",
      "At KNN, iteration 5, time: 1639086954.908042\n"
     ]
    },
    {
     "name": "stderr",
     "output_type": "stream",
     "text": [
      "../utils/impute_methods.py:8: FutureWarning: Dropping of nuisance columns in DataFrame reductions (with 'numeric_only=None') is deprecated; in a future version this will raise TypeError.  Select only valid columns before calling the reduction.\n",
      "  means = X.mask(Omega!=True).mean(axis=0)\n"
     ]
    },
    {
     "name": "stdout",
     "output_type": "stream",
     "text": [
      "At EM, iteration 5, time: 1639087087.100095\n"
     ]
    },
    {
     "name": "stderr",
     "output_type": "stream",
     "text": [
      "../utils/expectation_maximization.py:58: RuntimeWarning: invalid value encountered in reciprocal\n",
      "  Sig[Sig > 0] = Sig[Sig > 0] ** -1\n"
     ]
    },
    {
     "name": "stdout",
     "output_type": "stream",
     "text": [
      "At LS, iteration 5, time: 1639087095.414263\n",
      "At Deletion, iteration 5, time: 1639087099.22074\n",
      "At mean, iteration 6, time: 1639087099.7111402\n",
      "At SVT, iteration 6, time: 1639087099.801415\n",
      "At KNN, iteration 6, time: 1639087099.818225\n"
     ]
    },
    {
     "name": "stderr",
     "output_type": "stream",
     "text": [
      "../utils/impute_methods.py:8: FutureWarning: Dropping of nuisance columns in DataFrame reductions (with 'numeric_only=None') is deprecated; in a future version this will raise TypeError.  Select only valid columns before calling the reduction.\n",
      "  means = X.mask(Omega!=True).mean(axis=0)\n"
     ]
    },
    {
     "name": "stdout",
     "output_type": "stream",
     "text": [
      "At EM, iteration 6, time: 1639087227.246335\n"
     ]
    },
    {
     "name": "stderr",
     "output_type": "stream",
     "text": [
      "../utils/expectation_maximization.py:58: RuntimeWarning: invalid value encountered in reciprocal\n",
      "  Sig[Sig > 0] = Sig[Sig > 0] ** -1\n"
     ]
    },
    {
     "name": "stdout",
     "output_type": "stream",
     "text": [
      "At LS, iteration 6, time: 1639087249.761885\n",
      "At Deletion, iteration 6, time: 1639087254.00302\n",
      "At mean, iteration 7, time: 1639087254.378994\n",
      "At SVT, iteration 7, time: 1639087254.452152\n",
      "At KNN, iteration 7, time: 1639087254.465847\n"
     ]
    },
    {
     "name": "stderr",
     "output_type": "stream",
     "text": [
      "../utils/impute_methods.py:8: FutureWarning: Dropping of nuisance columns in DataFrame reductions (with 'numeric_only=None') is deprecated; in a future version this will raise TypeError.  Select only valid columns before calling the reduction.\n",
      "  means = X.mask(Omega!=True).mean(axis=0)\n"
     ]
    },
    {
     "name": "stdout",
     "output_type": "stream",
     "text": [
      "At EM, iteration 7, time: 1639087376.299102\n",
      "At LS, iteration 7, time: 1639087384.658785\n",
      "At Deletion, iteration 7, time: 1639087388.0741398\n",
      "At mean, iteration 8, time: 1639087388.402914\n",
      "At SVT, iteration 8, time: 1639087388.4748359\n",
      "At KNN, iteration 8, time: 1639087388.48736\n"
     ]
    },
    {
     "name": "stderr",
     "output_type": "stream",
     "text": [
      "../utils/impute_methods.py:8: FutureWarning: Dropping of nuisance columns in DataFrame reductions (with 'numeric_only=None') is deprecated; in a future version this will raise TypeError.  Select only valid columns before calling the reduction.\n",
      "  means = X.mask(Omega!=True).mean(axis=0)\n"
     ]
    },
    {
     "name": "stdout",
     "output_type": "stream",
     "text": [
      "At EM, iteration 8, time: 1639087508.4999418\n",
      "At LS, iteration 8, time: 1639087516.776271\n",
      "At Deletion, iteration 8, time: 1639087520.1197078\n",
      "At mean, iteration 9, time: 1639087520.4379299\n",
      "At SVT, iteration 9, time: 1639087520.502275\n",
      "At KNN, iteration 9, time: 1639087520.517288\n"
     ]
    },
    {
     "name": "stderr",
     "output_type": "stream",
     "text": [
      "../utils/impute_methods.py:8: FutureWarning: Dropping of nuisance columns in DataFrame reductions (with 'numeric_only=None') is deprecated; in a future version this will raise TypeError.  Select only valid columns before calling the reduction.\n",
      "  means = X.mask(Omega!=True).mean(axis=0)\n"
     ]
    },
    {
     "name": "stdout",
     "output_type": "stream",
     "text": [
      "At EM, iteration 9, time: 1639087639.5296571\n"
     ]
    },
    {
     "name": "stderr",
     "output_type": "stream",
     "text": [
      "../utils/expectation_maximization.py:58: RuntimeWarning: invalid value encountered in reciprocal\n",
      "  Sig[Sig > 0] = Sig[Sig > 0] ** -1\n"
     ]
    },
    {
     "name": "stdout",
     "output_type": "stream",
     "text": [
      "At LS, iteration 9, time: 1639087647.692926\n",
      "At Deletion, iteration 9, time: 1639087651.0044339\n"
     ]
    }
   ],
   "source": [
    "results = cv.cross_validation(bikeX, bikey,seed=60615,tau=0.5, keepcols=['instant','dteday'],iters=10)"
   ]
  },
  {
   "cell_type": "code",
   "execution_count": 11,
   "metadata": {},
   "outputs": [],
   "source": [
    "# Output the dictionary results to a csv file\n",
    "results_df = pd.DataFrame(results)\n",
    "results_df.to_csv('/Users/andrescrucettanieto/Documents/GitHub/missing_data_project/data/cross_val_results.csv')"
   ]
  },
  {
   "cell_type": "code",
   "execution_count": 12,
   "metadata": {},
   "outputs": [
    {
     "data": {
      "text/html": [
       "<div>\n",
       "<style scoped>\n",
       "    .dataframe tbody tr th:only-of-type {\n",
       "        vertical-align: middle;\n",
       "    }\n",
       "\n",
       "    .dataframe tbody tr th {\n",
       "        vertical-align: top;\n",
       "    }\n",
       "\n",
       "    .dataframe thead th {\n",
       "        text-align: right;\n",
       "    }\n",
       "</style>\n",
       "<table border=\"1\" class=\"dataframe\">\n",
       "  <thead>\n",
       "    <tr style=\"text-align: right;\">\n",
       "      <th></th>\n",
       "      <th>mean_X</th>\n",
       "      <th>deletion</th>\n",
       "      <th>svt_X</th>\n",
       "      <th>knn_X</th>\n",
       "      <th>em_X</th>\n",
       "    </tr>\n",
       "  </thead>\n",
       "  <tbody>\n",
       "    <tr>\n",
       "      <th>er1</th>\n",
       "      <td>2298.942068</td>\n",
       "      <td>1.235361e-17</td>\n",
       "      <td>4064.640314</td>\n",
       "      <td>903.137246</td>\n",
       "      <td>1387.329053</td>\n",
       "    </tr>\n",
       "    <tr>\n",
       "      <th>er2</th>\n",
       "      <td>47.930185</td>\n",
       "      <td>2.227237e-09</td>\n",
       "      <td>63.741957</td>\n",
       "      <td>30.040382</td>\n",
       "      <td>37.230969</td>\n",
       "    </tr>\n",
       "    <tr>\n",
       "      <th>time</th>\n",
       "      <td>0.079799</td>\n",
       "      <td>8.908105e-03</td>\n",
       "      <td>0.014776</td>\n",
       "      <td>127.605410</td>\n",
       "      <td>15.510114</td>\n",
       "    </tr>\n",
       "  </tbody>\n",
       "</table>\n",
       "</div>"
      ],
      "text/plain": [
       "           mean_X      deletion        svt_X       knn_X         em_X\n",
       "er1   2298.942068  1.235361e-17  4064.640314  903.137246  1387.329053\n",
       "er2     47.930185  2.227237e-09    63.741957   30.040382    37.230969\n",
       "time     0.079799  8.908105e-03     0.014776  127.605410    15.510114"
      ]
     },
     "execution_count": 12,
     "metadata": {},
     "output_type": "execute_result"
    }
   ],
   "source": [
    "results_df"
   ]
  },
  {
   "cell_type": "code",
   "execution_count": null,
   "metadata": {},
   "outputs": [],
   "source": []
  }
 ],
 "metadata": {
  "kernelspec": {
   "display_name": "Python 3",
   "language": "python",
   "name": "python3"
  },
  "language_info": {
   "codemirror_mode": {
    "name": "ipython",
    "version": 3
   },
   "file_extension": ".py",
   "mimetype": "text/x-python",
   "name": "python",
   "nbconvert_exporter": "python",
   "pygments_lexer": "ipython3",
   "version": "3.7.11"
  }
 },
 "nbformat": 4,
 "nbformat_minor": 4
}
