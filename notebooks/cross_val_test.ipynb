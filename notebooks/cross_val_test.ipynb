{
 "cells": [
  {
   "cell_type": "code",
   "execution_count": 1,
   "metadata": {},
   "outputs": [],
   "source": [
    "import numpy as np\n",
    "import pandas as pd\n",
    "import sys  \n",
    "sys.path.insert(0, '../utils')\n",
    "import cross_validation as cv\n",
    "import utils"
   ]
  },
  {
   "cell_type": "code",
   "execution_count": 2,
   "metadata": {},
   "outputs": [],
   "source": [
    "bikey, bikeX = utils.read_in(utils.bike_file_path,dataset='bike')"
   ]
  },
  {
   "cell_type": "code",
   "execution_count": 3,
   "metadata": {},
   "outputs": [
    {
     "name": "stdout",
     "output_type": "stream",
     "text": [
      "At mean, iteration 0, time: 1639086178.134494\n",
      "At SVT, iteration 0, time: 1639086178.233668\n",
      "At KNN, iteration 0, time: 1639086178.254998\n"
     ]
    },
    {
     "name": "stderr",
     "output_type": "stream",
     "text": [
      "../utils/impute_methods.py:8: FutureWarning: Dropping of nuisance columns in DataFrame reductions (with 'numeric_only=None') is deprecated; in a future version this will raise TypeError.  Select only valid columns before calling the reduction.\n",
      "  means = X.mask(Omega!=True).mean(axis=0)\n"
     ]
    },
    {
     "name": "stdout",
     "output_type": "stream",
     "text": [
      "At EM, iteration 0, time: 1639086307.237257\n",
      "At LS, iteration 0, time: 1639086328.010156\n",
      "At Deletion, iteration 0, time: 1639086331.16712\n",
      "At mean, iteration 1, time: 1639086331.491395\n",
      "At SVT, iteration 1, time: 1639086331.5598562\n",
      "At KNN, iteration 1, time: 1639086331.571881\n"
     ]
    },
    {
     "name": "stderr",
     "output_type": "stream",
     "text": [
      "../utils/impute_methods.py:8: FutureWarning: Dropping of nuisance columns in DataFrame reductions (with 'numeric_only=None') is deprecated; in a future version this will raise TypeError.  Select only valid columns before calling the reduction.\n",
      "  means = X.mask(Omega!=True).mean(axis=0)\n"
     ]
    }
   ],
   "source": [
    "results = cv.cross_validation(bikeX, bikey,seed=60615,tau=0.5, keepcols=['instant','dteday'],iters=10)"
   ]
  },
  {
   "cell_type": "code",
   "execution_count": null,
   "metadata": {},
   "outputs": [],
   "source": []
  }
 ],
 "metadata": {
  "kernelspec": {
   "display_name": "Python 3",
   "language": "python",
   "name": "python3"
  },
  "language_info": {
   "codemirror_mode": {
    "name": "ipython",
    "version": 3
   },
   "file_extension": ".py",
   "mimetype": "text/x-python",
   "name": "python",
   "nbconvert_exporter": "python",
   "pygments_lexer": "ipython3",
   "version": "3.7.11"
  }
 },
 "nbformat": 4,
 "nbformat_minor": 4
}
